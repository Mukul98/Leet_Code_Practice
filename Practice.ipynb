{
 "cells": [
  {
   "cell_type": "markdown",
   "metadata": {},
   "source": [
    "### Q1) Longest Substring Without Repeating Characters\n",
    "Given a string s, find the length of the longest \n",
    "substring\n",
    " without repeating characters.\n",
    "\n",
    " \n",
    "\n",
    "Example 1:\n",
    "\n",
    "Input: s = \"abcabcbb\"\n",
    "Output: 3\n",
    "Explanation: The answer is \"abc\", with the length of 3.\n",
    "Example 2:\n",
    "\n",
    "Input: s = \"bbbbb\"\n",
    "Output: 1\n",
    "Explanation: The answer is \"b\", with the length of 1.\n",
    "Example 3:\n",
    "\n",
    "Input: s = \"pwwkew\"\n",
    "Output: 3\n",
    "Explanation: The answer is \"wke\", with the length of 3.\n",
    "Notice that the answer must be a substring, \"pwke\" is a subsequence and not a substring.\n",
    " \n",
    "\n",
    "Constraints:\n",
    "\n",
    "0 <= s.length <= 5 * 104\n",
    "s consists of English letters, digits, symbols and spaces."
   ]
  },
  {
   "cell_type": "code",
   "execution_count": null,
   "metadata": {},
   "outputs": [],
   "source": [
    "class Solution(object):\n",
    "    def lengthOfLongestSubstring(self, s):\n",
    "        \"\"\"\n",
    "        :type s: str\n",
    "        :rtype: int\n",
    "        \"\"\"\n",
    "        if len(s)<=1:\n",
    "            return len(s)\n",
    "        else:\n",
    "            char_set=set()\n",
    "            left=0\n",
    "            max_length=0\n",
    "\n",
    "            for right in range(len(s)):\n",
    "                while s[right] in char_set:\n",
    "                    char_set.remove(s[left])\n",
    "                    left+=1\n",
    "                char_set.add(s[right])\n",
    "                max_length=max(max_length,right-left+1)\n",
    "            return max_length"
   ]
  }
 ],
 "metadata": {
  "kernelspec": {
   "display_name": "Python 3",
   "language": "python",
   "name": "python3"
  },
  "language_info": {
   "codemirror_mode": {
    "name": "ipython",
    "version": 3
   },
   "file_extension": ".py",
   "mimetype": "text/x-python",
   "name": "python",
   "nbconvert_exporter": "python",
   "pygments_lexer": "ipython3",
   "version": "3.13.1"
  }
 },
 "nbformat": 4,
 "nbformat_minor": 2
}
